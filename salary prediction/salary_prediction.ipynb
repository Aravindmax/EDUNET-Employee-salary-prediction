{
 "cells": [
  {
   "cell_type": "code",
   "execution_count": 5,
   "id": "deb02c34",
   "metadata": {},
   "outputs": [
    {
     "name": "stdout",
     "output_type": "stream",
     "text": [
      "Overwriting app.py\n"
     ]
    }
   ],
   "source": [
    "%%writefile app.py\n",
    "import streamlit as st\n",
    "import pandas as pd\n",
    "import joblib\n",
    "\n",
    "# Load model and encoders\n",
    "model = joblib.load(\"best_model.pkl\")\n",
    "education_encoder = joblib.load(\"education_encoder.pkl\")\n",
    "occupation_encoder = joblib.load(\"occupation_encoder.pkl\")\n",
    "gender_encoder = joblib.load(\"gender_encoder.pkl\")\n",
    "\n",
    "# Streamlit setup\n",
    "st.set_page_config(page_title=\"Employee Income Classifier\", page_icon=\"💼\")\n",
    "st.title(\"💼 Income Prediction App\")\n",
    "st.markdown(\"Predict whether an employee earns **>50K or ≤50K**.\")\n",
    "\n",
    "# Sidebar inputs\n",
    "st.sidebar.header(\"Input Employee Details\")\n",
    "age = st.sidebar.slider(\"Age\", 18, 65, 30)\n",
    "education = st.sidebar.selectbox(\"Education\", education_encoder.classes_)\n",
    "occupation = st.sidebar.selectbox(\"Occupation\", occupation_encoder.classes_)\n",
    "gender = st.sidebar.selectbox(\"Gender\", gender_encoder.classes_)\n",
    "hours = st.sidebar.slider(\"Hours per Week\", 1, 80, 40)\n",
    "\n",
    "# Preprocess inputs\n",
    "input_df = pd.DataFrame({\n",
    "    \"age\": [age],\n",
    "    \"education\": education_encoder.transform([education]),\n",
    "    \"occupation\": occupation_encoder.transform([occupation]),\n",
    "    \"gender\": gender_encoder.transform([gender]),\n",
    "    \"hours-per-week\": [hours]\n",
    "})\n",
    "\n",
    "st.write(\"### 🔍 Input Data\")\n",
    "st.write(input_df)\n",
    "\n",
    "# Predict button\n",
    "if st.button(\"🔮 Predict Income\"):\n",
    "    prediction = model.predict(input_df)\n",
    "    st.success(f\"✅ Prediction: {prediction[0]}\")\n",
    "\n",
    "# Batch upload\n",
    "st.markdown(\"---\")\n",
    "st.subheader(\"📂 Batch Prediction\")\n",
    "uploaded_file = st.file_uploader(\"Upload a CSV file\", type=\"csv\")\n",
    "\n",
    "if uploaded_file is not None:\n",
    "    batch = pd.read_csv(uploaded_file)\n",
    "\n",
    "    # Encode categorical fields\n",
    "    batch[\"education\"] = education_encoder.transform(batch[\"education\"])\n",
    "    batch[\"occupation\"] = occupation_encoder.transform(batch[\"occupation\"])\n",
    "    batch[\"gender\"] = gender_encoder.transform(batch[\"gender\"])\n",
    "\n",
    "    preds = model.predict(batch)\n",
    "    batch[\"Predicted Income\"] = preds\n",
    "\n",
    "    st.write(\"📊 Predictions:\")\n",
    "    st.write(batch.head())\n",
    "\n",
    "    # Downloadable CSV\n",
    "    csv = batch.to_csv(index=False).encode('utf-8')\n",
    "    st.download_button(\"📥 Download Results\", csv, file_name=\"predictions.csv\", mime=\"text/csv\")\n"
   ]
  },
  {
   "cell_type": "code",
   "execution_count": 8,
   "id": "b8de8afb",
   "metadata": {},
   "outputs": [
    {
     "name": "stdout",
     "output_type": "stream",
     "text": [
      "^C\n"
     ]
    }
   ],
   "source": [
    "!streamlit run app.py"
   ]
  }
 ],
 "metadata": {
  "kernelspec": {
   "display_name": "Python 3",
   "language": "python",
   "name": "python3"
  },
  "language_info": {
   "codemirror_mode": {
    "name": "ipython",
    "version": 3
   },
   "file_extension": ".py",
   "mimetype": "text/x-python",
   "name": "python",
   "nbconvert_exporter": "python",
   "pygments_lexer": "ipython3",
   "version": "3.10.11"
  }
 },
 "nbformat": 4,
 "nbformat_minor": 5
}
